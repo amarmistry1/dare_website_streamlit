{
 "cells": [
  {
   "cell_type": "markdown",
   "id": "a035a127-4c35-4708-a1e4-c696d0b3dc2f",
   "metadata": {},
   "source": [
    "# Methodology\n",
    "\n",
    "This section will discuss the methodology surrounding the 2012-2015 data. \n",
    "\n",
    "It is important to note that DARE_UK does not currently have the capabilities to record emission contributions from individual economic sectors, although we are currently working towards this. \n",
    "\n",
    "As such, the sectoral emissions presented here are estimated using emissions data published in the UK Greenhouse Gas Inventory. \n",
    "\n",
    "By analysing data published in the UK GHG Inventory, we are able to estimate the percentage of average yearly emissions emitted by each economic sector from each individual grid-cell. We have then applied these same percentages from each grid-cell to the data published by the DARE_UK network between 2012-2022, as shown below.  \n",
    "\n",
    "These sectors are then further categorised into 4 major economic sectors as such:\n",
    "    \n",
    "* Energy and Transport = Domestic combustion (domcom), Energy Production (energyprod), Offshore (offshore), Road Transport (roadtrans) and Other Transport (othertrans)\n",
    "* Industiral Processes = Industrial combustion (indcom) and Industrial Production (indprod)\n",
    "* Agriculture = Agriculture (agric)\n",
    "* Waste = Waste  (waste)"
   ]
  },
  {
   "cell_type": "code",
   "execution_count": null,
   "id": "cc893e62-413d-4cc2-b31f-70c6a15f884a",
   "metadata": {
    "tags": [
     "remove-input",
     "remove-cell"
    ]
   },
   "outputs": [],
   "source": [
    "import pandas as pd\n",
    "from itertools import takewhile\n",
    "import plotly.graph_objects as go\n",
    "import plotly.express as px\n",
    "import base64\n",
    "import numpy as np\n",
    "import glob\n",
    "import xarray as xr\n",
    "import matplotlib.pyplot as plt\n",
    "import matplotlib.gridspec as gridspec\n",
    "from numpy import loadtxt\n",
    "\n",
    "import cartopy\n",
    "import cartopy.crs as ccrs\n",
    "from cartopy.mpl.ticker import LongitudeFormatter, LatitudeFormatter\n",
    "\n",
    "from fig_mods.nextstep import areagrid"
   ]
  },
  {
   "cell_type": "code",
   "execution_count": null,
   "id": "2f7a50d8-d02a-470c-9580-d9869bb5ba23",
   "metadata": {
    "tags": [
     "remove-cell",
     "remove-input"
    ]
   },
   "outputs": [],
   "source": [
    "ds_flux_old = xr.open_dataset(\"data/flux_data.nc\")\n",
    "\n",
    "## Set the longitude and latitude to only include the UK;\n",
    "\n",
    "min_lon = -12\n",
    "min_lat = 48\n",
    "max_lon = 5 \n",
    "max_lat = 62 \n",
    "\n",
    "ds_flux_old = ds_flux_old.sel(lat=slice(min_lat,max_lat), lon=slice(min_lon,max_lon))"
   ]
  },
  {
   "cell_type": "code",
   "execution_count": null,
   "id": "75f8f133-4c4a-4194-bf09-9a8099fec297",
   "metadata": {
    "tags": [
     "remove-cell",
     "remove-input"
    ]
   },
   "outputs": [],
   "source": [
    "ds_flux = xr.open_dataset(\"data/flux_MetOffice-InTEM_ch4_MHD_TAC_RGL_TTA_BSD_HFD_CBW_WAO_JFJ_CMN_ZEP_TRN_LUT_2012-2021_Dec2022.nc\")\n",
    "\n",
    "## Set the longitude and latitude to only include the UK;\n",
    "\n",
    "min_lon = -12\n",
    "min_lat = 50\n",
    "\n",
    "max_lon = 2 \n",
    "max_lat = 62 \n",
    "\n",
    "ds_flux = ds_flux.sel(lat=slice(min_lat,max_lat), lon=slice(min_lon,max_lon))"
   ]
  },
  {
   "cell_type": "code",
   "execution_count": null,
   "id": "674f313a-03ea-49dc-83a0-ed8216fc7556",
   "metadata": {
    "tags": [
     "remove-cell",
     "remove-input"
    ]
   },
   "outputs": [],
   "source": [
    "lat = np.arange(50.041, 61.975002, 0.234)\n",
    "lon = np.arange(-11.66, 1.716001, 0.352)\n",
    "area = areagrid(lat, lon)\n",
    "#area"
   ]
  },
  {
   "cell_type": "code",
   "execution_count": null,
   "id": "88381faa-d643-49ec-915e-0930b6a0a273",
   "metadata": {
    "tags": [
     "remove-cell",
     "remove-input"
    ]
   },
   "outputs": [],
   "source": [
    "## Create a function to produce a mean flux reading for each year;\n",
    "\n",
    "def weighted_temporal_mean(ds, var):\n",
    "\n",
    "    month_length = ds.time.dt.days_in_month\n",
    "\n",
    "    # Calculate the weights\n",
    "    wgts = month_length.groupby(\"time.year\") / month_length.groupby(\"time.year\").sum()\n",
    "\n",
    "    # Make sure the weights in each year add up to 1\n",
    "    np.testing.assert_allclose(wgts.groupby(\"time.year\").sum(xr.ALL_DIMS), 1.0)\n",
    "\n",
    "    # Subset our dataset for our variable\n",
    "    obs = ds[var]\n",
    "\n",
    "    # Setup our masking for nan values\n",
    "    cond = obs.isnull()\n",
    "    ones = xr.where(cond, 0.0, 1.0)\n",
    "\n",
    "    # Calculate the numerator\n",
    "    obs_sum = (obs * wgts).resample(time=\"AS\").sum(dim=\"time\")\n",
    "\n",
    "    # Calculate the denominator\n",
    "    ones_out = (ones * wgts).resample(time=\"AS\").sum(dim=\"time\")\n",
    "    \n",
    "    return obs_sum / ones_out"
   ]
  },
  {
   "cell_type": "code",
   "execution_count": null,
   "id": "9d9cfd55-6933-4a53-8ae9-6b6e16a575a7",
   "metadata": {
    "tags": [
     "remove-cell",
     "remove-input"
    ]
   },
   "outputs": [],
   "source": [
    "Intem_new_year = weighted_temporal_mean(ds_flux, \"flux_prior\")\n",
    "Intem2012 = Intem_new_year[dict(time=0)] * area\n",
    "Intem2013 = Intem_new_year[dict(time=1)] * area\n",
    "Intem2014 = Intem_new_year[dict(time=2)] * area\n",
    "Intem2015 = Intem_new_year[dict(time=3)] * area"
   ]
  },
  {
   "cell_type": "code",
   "execution_count": null,
   "id": "5c84be5e-41b5-4946-b349-ee973e35b9e7",
   "metadata": {
    "tags": [
     "remove-cell",
     "remove-input"
    ]
   },
   "outputs": [],
   "source": [
    "def read_invent_ch4_old(year, species):\n",
    "    import pandas as pd\n",
    "    from itertools import takewhile\n",
    "    import plotly.graph_objects as go\n",
    "    import base64\n",
    "    import numpy as np\n",
    "    import glob\n",
    "    import xarray as xr\n",
    "    \n",
    "    csv = glob.glob(f\"data/ch4-ukghg-{species}_EUROPE_{year}.nc\")\n",
    "    \n",
    "    flux = xr.open_dataset(csv[0])\n",
    "    \n",
    "    min_lon = -12\n",
    "    min_lat = 48\n",
    "    max_lon = 5 \n",
    "    max_lat = 62 \n",
    "    \n",
    "    cropped_ds = flux.sel(lat=slice(min_lat,max_lat), lon=slice(min_lon,max_lon))\n",
    "    \n",
    "    cropped_ds = cropped_ds * area\n",
    "    \n",
    "    return cropped_ds"
   ]
  },
  {
   "cell_type": "code",
   "execution_count": null,
   "id": "5a22454c-ae3a-4e33-855b-bb89f1b74bfa",
   "metadata": {
    "tags": [
     "remove-cell",
     "remove-input"
    ]
   },
   "outputs": [],
   "source": [
    "def read_invent_ch4(year, species):\n",
    "    import pandas as pd\n",
    "    from itertools import takewhile\n",
    "    import plotly.graph_objects as go\n",
    "    import base64\n",
    "    import numpy as np\n",
    "    import glob\n",
    "    import xarray as xr\n",
    "    \n",
    "    csv = glob.glob(f\"data/ch4-edgarv7-ukghg-yearly/ch4-edgarv7-ukghg-europe-{year}/ch4-edgarv7-ukghg-{species}_EUROPE_{year}.nc\")\n",
    "    \n",
    "    flux = xr.open_dataset(csv[0])\n",
    "    \n",
    "    min_lon = -12\n",
    "    min_lat = 50\n",
    "\n",
    "    max_lon = 2 \n",
    "    max_lat = 62 \n",
    "    \n",
    "    cropped_ds = flux.sel(lat=slice(min_lat,max_lat), lon=slice(min_lon,max_lon))\n",
    "    \n",
    "    cropped_ds1 = cropped_ds[dict(time=0)] * area\n",
    "        \n",
    "    return cropped_ds1"
   ]
  },
  {
   "cell_type": "code",
   "execution_count": null,
   "id": "120a1511-5ede-4717-8b2b-2c8a397b982f",
   "metadata": {
    "tags": [
     "remove-cell",
     "remove-input"
    ]
   },
   "outputs": [],
   "source": [
    "test2012 = read_invent_ch4(\"2012\", \"total\")\n",
    "test2012"
   ]
  },
  {
   "cell_type": "code",
   "execution_count": null,
   "id": "676302e5-fffe-4f44-95ad-8bd4da8d6e93",
   "metadata": {
    "tags": [
     "remove-cell",
     "remove-input"
    ]
   },
   "outputs": [],
   "source": [
    "def plot_sector(year):\n",
    "    \n",
    "    fig, axs = plt.subplots(4, 3, figsize = (13, 13), subplot_kw={'projection':cartopy.crs.PlateCarree()})\n",
    "    \n",
    "    species = [\"total\", \"agric\", \"domcom\", \"energyprod\", \"indcom\", \"indproc\", \"offshore\", \"othertrans\", \"roadtrans\", \"waste\"]\n",
    "    \n",
    "    fontsizes = {\"title\":10, \"labels\": 10, \"axis\":10}\n",
    "    \n",
    "    for name, ax in zip(species, axs.flatten()):\n",
    "        \n",
    "        a = read_invent_ch4(year, name)\n",
    "        b = read_invent_ch4(year, \"total\")\n",
    "        \n",
    "        fract = 100*(a.flux / b.flux)\n",
    "    \n",
    "        fract = np.clip(fract, 0, 100)\n",
    "        \n",
    "        test = fract.reindex_like(Intem2012, method='nearest', tolerance=0.01)\n",
    "        \n",
    "        if year == \"2012\":\n",
    "            data = test/100 * Intem2012\n",
    "            x = 'Reds'\n",
    "        elif year == \"2013\":\n",
    "            data = test/100 * Intem2013\n",
    "            x = 'Blues'\n",
    "        elif year == \"2014\":\n",
    "            data = test/100 * Intem2014\n",
    "            x = 'Greens'\n",
    "        elif year == \"2015\":\n",
    "            data = test/100 * Intem2015\n",
    "            x = 'Purples'\n",
    "                \n",
    "        a = ax.pcolormesh(data.lon, data.lat, data, cmap=plt.cm.get_cmap(x))\n",
    "        ax.set_extent([-12,3, 49.9,60], crs=cartopy.crs.PlateCarree())        \n",
    "        ax.coastlines(resolution='50m', color='black', linewidth=1)\n",
    "        \n",
    "        ax.set_xticks([-12, -8, -4, 0], crs=cartopy.crs.PlateCarree())\n",
    "        lon_formatter = LongitudeFormatter(number_format='.1f',\n",
    "                                    degree_symbol='',\n",
    "                                    dateline_direction_label=True)\n",
    "        ax.xaxis.set_major_formatter(lon_formatter)        \n",
    "        # set y-ticks for the plot, and format          \n",
    "        ax.set_yticks([50, 54, 58], crs=cartopy.crs.PlateCarree())\n",
    "        lat_formatter = LatitudeFormatter(number_format='.1f',  degree_symbol='',)\n",
    "        ax.yaxis.set_major_formatter(lat_formatter)             \n",
    "        ax.tick_params(axis='both', which='major', labelsize=fontsizes[\"axis\"]) \n",
    "        \n",
    "        fig.colorbar(a, ax=ax, pad=0.05, shrink=0.7)\n",
    "        \n",
    "        ax.set_title(\"2013\" +\"\\n\"+ name, fontsize = fontsizes[\"title\"])\n",
    "        ax.set_ylabel(\"Latitude (degrees)\", fontsize = fontsizes[\"labels\"])\n",
    "        ax.set_xlabel(\"Longitude (degrees)\", fontsize = fontsizes[\"labels\"])\n",
    "        \n",
    "    fig.tight_layout()"
   ]
  },
  {
   "cell_type": "code",
   "execution_count": null,
   "id": "655f7fd6-7a63-47b5-bf1e-70c4c123a3ba",
   "metadata": {
    "tags": [
     "remove-cell",
     "remove-input"
    ]
   },
   "outputs": [],
   "source": [
    "def plot_sector_perc(year):\n",
    "    \n",
    "    fig, axs = plt.subplots(5, 2, figsize = (13, 13), subplot_kw={'projection':cartopy.crs.PlateCarree()})\n",
    "    \n",
    "    species = [\"total\", \"agric\", \"domcom\", \"energyprod\", \"indcom\", \"indproc\", \"offshore\", \"othertrans\", \"roadtrans\", \"waste\"]\n",
    "    \n",
    "    fontsizes = {\"title\":10, \"labels\": 10, \"axis\":10, \"suptitle\":16} \n",
    "    \n",
    "    for name, ax in zip(species, axs.flatten()):\n",
    "        \n",
    "        a = read_invent_ch4(year, name)\n",
    "        b = read_invent_ch4(year, \"total\")\n",
    "        \n",
    "\n",
    "        fract = 100*(a.flux / b.flux)\n",
    "\n",
    "        fract = np.clip(fract, 0, 100)\n",
    "\n",
    "        test = fract.reindex_like(Intem2012, method='nearest', tolerance=0.01)\n",
    "        \n",
    "        if year == \"2012\":\n",
    "            test1 = test * Intem2012\n",
    "            data = test1 / Intem2012 #* 100\n",
    "            x = 'Reds'\n",
    "        elif year == \"2013\":\n",
    "            test1 = test * Intem2013\n",
    "            data = test1 / Intem2013 #* 100\n",
    "            x = 'Blues'\n",
    "        elif year == \"2014\":\n",
    "            test1 = test * Intem2014\n",
    "            data = test1 / Intem2014 #* 100\n",
    "            x = 'Greens'\n",
    "        elif year == \"2015\":\n",
    "            test1 = test * Intem2015\n",
    "            data = test1 / Intem2015 #* 100\n",
    "            x = 'Purples'\n",
    "                \n",
    "        a = ax.pcolormesh(data.lon, data.lat, data, cmap=plt.cm.get_cmap(x))\n",
    "        ax.set_extent([-12,3, 49.9,60], crs=cartopy.crs.PlateCarree())        \n",
    "        ax.coastlines(resolution='50m', color='black', linewidth=1)\n",
    "        \n",
    "        ax.set_xticks([-12, -8, -4, 0], crs=cartopy.crs.PlateCarree())\n",
    "        lon_formatter = LongitudeFormatter(number_format='.1f',\n",
    "                                    degree_symbol='',\n",
    "                                    dateline_direction_label=True)\n",
    "        ax.xaxis.set_major_formatter(lon_formatter)        \n",
    "        # set y-ticks for the plot, and format          \n",
    "        ax.set_yticks([50, 54, 58], crs=cartopy.crs.PlateCarree())\n",
    "        lat_formatter = LatitudeFormatter(number_format='.1f',  degree_symbol='',)\n",
    "        ax.yaxis.set_major_formatter(lat_formatter)             \n",
    "        ax.tick_params(axis='both', which='major', labelsize=fontsizes[\"axis\"]) \n",
    "    \n",
    "        ax.set_title(year +\"\\n\"+ name, fontsize = fontsizes[\"title\"])\n",
    "        fig.colorbar(a, ax=ax, pad=0.01, shrink=0.9)\n",
    "        ax.set_ylabel(\"Latitude (degrees)\", fontsize = fontsizes[\"labels\"])\n",
    "        ax.set_xlabel(\"Longitude (degrees)\", fontsize = fontsizes[\"labels\"])\n",
    "    \n",
    "    fig.suptitle(\"Percentage of Total Methane Emissions (CH\\u2084) by Sector (2013)\", fontsize=fontsizes[\"suptitle\"], ha=\"center\")\n",
    "    \n",
    "    #fig.subplots_adjust(hspace=0.5, wspace=0.5)\n",
    "        \n",
    "    fig.tight_layout()"
   ]
  },
  {
   "cell_type": "code",
   "execution_count": null,
   "id": "f5dcf19b-810d-4768-b800-59260bfa8cd9",
   "metadata": {
    "tags": [
     "remove-input"
    ]
   },
   "outputs": [],
   "source": [
    "plot_sector_perc(\"2013\")"
   ]
  }
 ],
 "metadata": {
  "kernelspec": {
   "display_name": "Python 3 (ipykernel)",
   "language": "python",
   "name": "python3"
  },
  "language_info": {
   "codemirror_mode": {
    "name": "ipython",
    "version": 3
   },
   "file_extension": ".py",
   "mimetype": "text/x-python",
   "name": "python",
   "nbconvert_exporter": "python",
   "pygments_lexer": "ipython3",
   "version": "3.9.16"
  }
 },
 "nbformat": 4,
 "nbformat_minor": 5
}
